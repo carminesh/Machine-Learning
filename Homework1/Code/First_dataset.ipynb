{
 "cells": [
  {
   "cell_type": "markdown",
   "metadata": {},
   "source": [
    "Import all the necessary libraries & functions"
   ]
  },
  {
   "cell_type": "code",
   "execution_count": 1,
   "metadata": {},
   "outputs": [
    {
     "name": "stdout",
     "output_type": "stream",
     "text": [
      "All the libraries are imported correctly.\n"
     ]
    }
   ],
   "source": [
    "import numpy as np\n",
    "import pandas as pd\n",
    "import matplotlib.pyplot as plt \n",
    "from sklearn.svm import SVC\n",
    "from sklearn.model_selection import train_test_split, cross_val_score\n",
    "from sklearn.metrics import accuracy_score, recall_score, precision_score, classification_report, confusion_matrix\n",
    "from sklearn.preprocessing import StandardScaler\n",
    "from load_data import load_data\n",
    "import seaborn as sns\n",
    "\n",
    "\n",
    "print('All the libraries are imported correctly.')"
   ]
  },
  {
   "cell_type": "markdown",
   "metadata": {},
   "source": [
    "Preprocess all the data from the first dataset and then split it into training and test datasets."
   ]
  },
  {
   "cell_type": "code",
   "execution_count": 2,
   "metadata": {},
   "outputs": [
    {
     "name": "stdout",
     "output_type": "stream",
     "text": [
      "data/dataset1.csv\n"
     ]
    }
   ],
   "source": [
    "X, Y = load_data('data/dataset1.csv')\n",
    "\n",
    "X_train, X_test, y_train, y_test = train_test_split(X, Y, test_size=0.3, random_state=42)\n",
    "\n",
    "scaler = StandardScaler()\n",
    "\n",
    "# Data standardization\n",
    "X_train = scaler.fit_transform(X_train)\n",
    "X_test = scaler.transform(X_test)"
   ]
  },
  {
   "cell_type": "markdown",
   "metadata": {},
   "source": [
    "Initialize and fit the data to the SVM model with linear kernel"
   ]
  },
  {
   "cell_type": "code",
   "execution_count": 3,
   "metadata": {},
   "outputs": [],
   "source": [
    "svm_linear_kernel_model = SVC(kernel='linear', C=1)  \n",
    "svm_linear_kernel_model.fit(X_train, y_train)\n",
    "\n",
    "# Make predictions on the test set\n",
    "y_linear_pred = svm_linear_kernel_model.predict(X_test)"
   ]
  },
  {
   "cell_type": "markdown",
   "metadata": {},
   "source": [
    "Initialize and fit the data to the SVM model with polynomial kernel"
   ]
  },
  {
   "cell_type": "code",
   "execution_count": 4,
   "metadata": {},
   "outputs": [],
   "source": [
    "svm_poly_kernel_model = SVC(kernel='poly', C=1, degree=3)  \n",
    "svm_poly_kernel_model.fit(X_train, y_train)\n",
    "\n",
    "\n",
    "y_poly_pred = svm_poly_kernel_model.predict(X_test)"
   ]
  },
  {
   "cell_type": "markdown",
   "metadata": {},
   "source": [
    "Verify the accuracy of both models by using cross validation"
   ]
  },
  {
   "cell_type": "code",
   "execution_count": 5,
   "metadata": {},
   "outputs": [
    {
     "name": "stdout",
     "output_type": "stream",
     "text": [
      "Linear kernel Cross-Validation Scores: [0.9876 0.9878 0.9859 0.9872 0.9882]\n",
      "Poly kernel Cross-Validation Scores: [0.9891 0.9885 0.9883 0.9876 0.9902]\n",
      "\n",
      "\n",
      "Linear kernel Standard Deviation: 0.000788923316932639  vs. Poly kernel Standard Deviation:  0.0008731551981177041\n",
      "Linear kernel Mean Accuracy:  0.98734  vs. Poly kernel Mean Accuracy:  0.98874\n"
     ]
    }
   ],
   "source": [
    "linear_kernel_model_scores = cross_val_score(svm_linear_kernel_model, X, Y, cv=5, scoring='accuracy')\n",
    "svm_poly_kernel_model_scores = cross_val_score(svm_poly_kernel_model, X, Y, cv=5, scoring='accuracy')\n",
    "\n",
    "# Print the cross-validation scores for each fold\n",
    "print(\"Linear kernel Cross-Validation Scores:\", linear_kernel_model_scores)\n",
    "print(\"Poly kernel Cross-Validation Scores:\", svm_poly_kernel_model_scores)\n",
    "\n",
    "print('\\n')\n",
    "\n",
    "# Calculate and print the mean and standard deviation of the scores\n",
    "print(\"Linear kernel Standard Deviation:\", linear_kernel_model_scores.std(), ' vs. Poly kernel Standard Deviation: ', svm_poly_kernel_model_scores.std())\n",
    "print(\"Linear kernel Mean Accuracy: \", linear_kernel_model_scores.mean(), ' vs. Poly kernel Mean Accuracy: ', svm_poly_kernel_model_scores.mean())\n"
   ]
  },
  {
   "cell_type": "markdown",
   "metadata": {},
   "source": [
    "Report the accuracy of the model "
   ]
  },
  {
   "cell_type": "code",
   "execution_count": 6,
   "metadata": {},
   "outputs": [
    {
     "name": "stdout",
     "output_type": "stream",
     "text": [
      "Linear Kernel Accuracy: 0.9853333333333333  vs. Poly Kernel Accuracy:  0.9855333333333334\n",
      "Linear Kernel Recall: 0.9853333333333333  vs. Poly Kernel Recall:  0.9855333333333334\n",
      "Linear Kernel Precision: 0.9853333333333333  vs. Poly Kernel Precision:  0.9855333333333334\n",
      "Linear Kernel Classification Report:\n",
      "               precision    recall  f1-score   support\n",
      "\n",
      "           0       0.99      0.99      0.99      1473\n",
      "           1       1.00      0.99      0.99      1477\n",
      "           2       0.98      0.98      0.98      1500\n",
      "           3       0.96      0.97      0.96      1542\n",
      "           4       0.99      0.99      0.99      1437\n",
      "           5       0.96      0.96      0.96      1545\n",
      "           6       1.00      0.99      0.99      1465\n",
      "           7       0.99      0.99      0.99      1491\n",
      "           8       1.00      1.00      1.00      1546\n",
      "           9       0.99      0.99      0.99      1524\n",
      "\n",
      "    accuracy                           0.99     15000\n",
      "   macro avg       0.99      0.99      0.99     15000\n",
      "weighted avg       0.99      0.99      0.99     15000\n",
      "\n",
      "Poly Kernel Classification Report:\n",
      "               precision    recall  f1-score   support\n",
      "\n",
      "           0       0.99      0.99      0.99      1473\n",
      "           1       1.00      0.99      1.00      1477\n",
      "           2       1.00      0.98      0.99      1500\n",
      "           3       0.93      0.98      0.95      1542\n",
      "           4       0.99      0.99      0.99      1437\n",
      "           5       0.97      0.96      0.97      1545\n",
      "           6       1.00      0.99      0.99      1465\n",
      "           7       1.00      0.98      0.99      1491\n",
      "           8       1.00      1.00      1.00      1546\n",
      "           9       0.99      0.99      0.99      1524\n",
      "\n",
      "    accuracy                           0.99     15000\n",
      "   macro avg       0.99      0.99      0.99     15000\n",
      "weighted avg       0.99      0.99      0.99     15000\n",
      "\n"
     ]
    }
   ],
   "source": [
    "linear_k_accuracy = accuracy_score(y_test, y_linear_pred)\n",
    "linear_k_recall_score = recall_score(y_test, y_linear_pred, average='micro')\n",
    "linear_k_precision = precision_score(y_test, y_linear_pred, average='micro')\n",
    "linear_k_report = classification_report(y_test, y_linear_pred)\n",
    "\n",
    "poly_k_accuracy = accuracy_score(y_test, y_poly_pred)\n",
    "poly_k_recall_score = recall_score(y_test, y_poly_pred, average='micro')\n",
    "poly_k_precision = precision_score(y_test, y_poly_pred, average='micro')\n",
    "poly_k_report= classification_report(y_test, y_poly_pred)\n",
    "\n",
    "print(\"Linear Kernel Accuracy:\", linear_k_accuracy, ' vs. Poly Kernel Accuracy: ', poly_k_accuracy)\n",
    "print(\"Linear Kernel Recall:\", linear_k_recall_score, ' vs. Poly Kernel Recall: ', poly_k_recall_score)\n",
    "print(\"Linear Kernel Precision:\", linear_k_precision, ' vs. Poly Kernel Precision: ', poly_k_precision)\n",
    "\n",
    "\n",
    "print(\"Linear Kernel Classification Report:\\n\", linear_k_report)\n",
    "print(\"Poly Kernel Classification Report:\\n\", poly_k_report)\n"
   ]
  },
  {
   "cell_type": "markdown",
   "metadata": {},
   "source": [
    "Checking the performance of the model by using a confusion matrix - SVM w. Poly Kernel"
   ]
  },
  {
   "cell_type": "code",
   "execution_count": 10,
   "metadata": {},
   "outputs": [
    {
     "data": {
      "image/png": "[encoded data removed]",
      "text/plain": [
       "<Figure size 800x600 with 2 Axes>"
      ]
     },
     "metadata": {},
     "output_type": "display_data"
    }
   ],
   "source": [
    "# Create the confusion matrix\n",
    "conf_matrix = confusion_matrix(y_test, y_poly_pred) \n",
    "\n",
    "# Display the confusion matrix using a heatmap for better visualization\n",
    "plt.figure(figsize=(8, 6))\n",
    "sns.heatmap(conf_matrix, annot=True, fmt='d', cmap='Blues', cbar=True)\n",
    "plt.xlabel('Predicted Labels')\n",
    "plt.ylabel('True Labels')\n",
    "plt.title('Confusion Matrix - SVM with Polynomial kernel')\n",
    "plt.show()\n"
   ]
  },
  {
   "cell_type": "markdown",
   "metadata": {},
   "source": [
    "Test the 'blind test dataset' on the trained SVM model with linear kernel"
   ]
  },
  {
   "cell_type": "code",
   "execution_count": 11,
   "metadata": {},
   "outputs": [
    {
     "name": "stdout",
     "output_type": "stream",
     "text": [
      "data/blind_test1.csv\n"
     ]
    }
   ],
   "source": [
    "blind_test_data, y = load_data('data/blind_test1.csv')\n",
    "\n",
    "# Standardize the feature data for the blind test dataset\n",
    "X_blind = scaler.transform(blind_test_data)\n",
    "\n",
    "# Make predictions on the blind test data\n",
    "blind_test_predictions = svm_poly_kernel_model.predict(X_blind)\n",
    "\n",
    "\n",
    "df = pd.DataFrame(blind_test_data)"
   ]
  },
  {
   "cell_type": "markdown",
   "metadata": {},
   "source": [
    "Save the predictions for data in the 'blind tests' into a .csv file"
   ]
  },
  {
   "cell_type": "code",
   "execution_count": 13,
   "metadata": {},
   "outputs": [],
   "source": [
    "# Save the blind predictions to a file \n",
    "#df['X'] = df.apply(lambda row: row.values, axis=1)\n",
    "df['Predicted_label_class'] = blind_test_predictions\n",
    "\n",
    "# Remove all the columns from the dataframe except the last one: the last one is the Y column with the predictions.\n",
    "df = df.iloc[:, -1:]\n",
    "\n",
    "# Export predictions for data into a .csv file\n",
    "df.to_csv('d1_2133421.csv', index=False)\n"
   ]
  }
 ],
 "metadata": {
  "kernelspec": {
   "display_name": ".venv",
   "language": "python",
   "name": "python3"
  },
  "language_info": {
   "codemirror_mode": {
    "name": "ipython",
    "version": 3
   },
   "file_extension": ".py",
   "mimetype": "text/x-python",
   "name": "python",
   "nbconvert_exporter": "python",
   "pygments_lexer": "ipython3",
   "version": "3.11.4"
  }
 },
 "nbformat": 4,
 "nbformat_minor": 2
}
