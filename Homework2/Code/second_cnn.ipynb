{
 "cells": [
  {
   "cell_type": "code",
   "execution_count": null,
   "metadata": {},
   "outputs": [],
   "source": [
    "import numpy as np\n",
    "import tensorflow as tf\n",
    "from tensorflow.keras import layers, models\n",
    "from tensorflow.keras.preprocessing.image import ImageDataGenerator\n",
    "import matplotlib.pyplot as plt\n",
    "from sklearn.metrics import confusion_matrix\n",
    "import seaborn as sns\n",
    "from sklearn.metrics import accuracy_score, classification_report\n",
    "import visualkeras\n",
    "\n"
   ]
  },
  {
   "cell_type": "code",
   "execution_count": null,
   "metadata": {},
   "outputs": [],
   "source": [
    "train_data_dir = '../data/train/'\n",
    "\n",
    "img_size = (96, 96)\n",
    "batch_size = 32\n",
    "\n",
    "# Data generator with data augmentation\n",
    "train_datagen = ImageDataGenerator(\n",
    "    rescale=1./255,\n",
    "    shear_range=0.3,\n",
    "    zoom_range=0.3,\n",
    "    horizontal_flip=True\n",
    ")\n",
    "\n",
    "train_generator = train_datagen.flow_from_directory(\n",
    "    train_data_dir,\n",
    "    target_size=img_size,\n",
    "    batch_size=batch_size,\n",
    "    class_mode='categorical',  # Assuming one-hot encoding for class labels\n",
    "    color_mode='rgb'\n",
    ")\n"
   ]
  },
  {
   "cell_type": "code",
   "execution_count": 10,
   "metadata": {},
   "outputs": [
    {
     "name": "stdout",
     "output_type": "stream",
     "text": [
      "Model: \"sequential_3\"\n",
      "_________________________________________________________________\n",
      " Layer (type)                Output Shape              Param #   \n",
      "=================================================================\n",
      " conv2d_6 (Conv2D)           (None, 94, 94, 32)        896       \n",
      "                                                                 \n",
      " max_pooling2d_6 (MaxPoolin  (None, 47, 47, 32)        0         \n",
      " g2D)                                                            \n",
      "                                                                 \n",
      " conv2d_7 (Conv2D)           (None, 45, 45, 32)        9248      \n",
      "                                                                 \n",
      " max_pooling2d_7 (MaxPoolin  (None, 22, 22, 32)        0         \n",
      " g2D)                                                            \n",
      "                                                                 \n",
      " flatten_3 (Flatten)         (None, 15488)             0         \n",
      "                                                                 \n",
      " dense_9 (Dense)             (None, 128)               1982592   \n",
      "                                                                 \n",
      " dropout_3 (Dropout)         (None, 128)               0         \n",
      "                                                                 \n",
      " dense_10 (Dense)            (None, 64)                8256      \n",
      "                                                                 \n",
      " dense_11 (Dense)            (None, 5)                 325       \n",
      "                                                                 \n",
      "=================================================================\n",
      "Total params: 2001317 (7.63 MB)\n",
      "Trainable params: 2001317 (7.63 MB)\n",
      "Non-trainable params: 0 (0.00 Byte)\n",
      "_________________________________________________________________\n",
      "Epoch 1/10\n",
      "199/199 [==============================] - 12s 60ms/step - loss: 1.5792 - accuracy: 0.3607\n",
      "Epoch 2/10\n",
      "199/199 [==============================] - 14s 70ms/step - loss: 1.3963 - accuracy: 0.4666\n",
      "Epoch 3/10\n",
      "199/199 [==============================] - 14s 70ms/step - loss: 1.3238 - accuracy: 0.4966\n",
      "Epoch 4/10\n",
      "199/199 [==============================] - 14s 69ms/step - loss: 1.2892 - accuracy: 0.5083\n",
      "Epoch 5/10\n",
      "199/199 [==============================] - 14s 69ms/step - loss: 1.2726 - accuracy: 0.5181\n",
      "Epoch 6/10\n",
      "199/199 [==============================] - 14s 68ms/step - loss: 1.2632 - accuracy: 0.5261\n",
      "Epoch 7/10\n",
      "199/199 [==============================] - 14s 68ms/step - loss: 1.2438 - accuracy: 0.5312\n",
      "Epoch 8/10\n",
      "199/199 [==============================] - 14s 68ms/step - loss: 1.2363 - accuracy: 0.5343\n",
      "Epoch 9/10\n",
      "199/199 [==============================] - 14s 68ms/step - loss: 1.2369 - accuracy: 0.5356\n",
      "Epoch 10/10\n",
      "199/199 [==============================] - 14s 72ms/step - loss: 1.2193 - accuracy: 0.5479\n"
     ]
    }
   ],
   "source": [
    "# Create and compile the model\n",
    "model = models.Sequential([\n",
    "    layers.Conv2D(32, (3, 3), activation='elu', input_shape=(96, 96, 3)),\n",
    "    layers.MaxPooling2D((2, 2)),\n",
    "    layers.Conv2D(32, (3, 3), activation='elu'),\n",
    "    layers.MaxPooling2D((2, 2)),\n",
    "\n",
    "\n",
    "  \n",
    "    layers.Flatten(),\n",
    "    layers.Dense(128, activation='relu'),\n",
    "    layers.Dropout(0.5),\n",
    "    layers.Dense(64, activation='relu'),\n",
    "    layers.Dense(5, activation='softmax') \n",
    "])\n",
    "\n",
    "model.compile(optimizer='rmsprop', loss='categorical_crossentropy', metrics=['accuracy'])\n",
    "\n",
    "model.summary()\n",
    "\n",
    "# Train the model\n",
    "history = model.fit(\n",
    "    train_generator,\n",
    "    steps_per_epoch=train_generator.samples // batch_size,\n",
    "    epochs=10\n",
    ")\n"
   ]
  },
  {
   "cell_type": "markdown",
   "metadata": {},
   "source": [
    "Parameter tuning - Second Version of CNN modified"
   ]
  },
  {
   "cell_type": "code",
   "execution_count": null,
   "metadata": {},
   "outputs": [],
   "source": [
    "# Create and compile the second version of the model\n",
    "model = models.Sequential([\n",
    "    layers.Conv2D(32, (3, 3), activation='elu', input_shape=(96, 96, 3)),\n",
    "    layers.MaxPooling2D((2, 2)),\n",
    "    layers.Conv2D(32, (3, 3), activation='elu'),\n",
    "    layers.MaxPooling2D((2, 2)),\n",
    "\n",
    "\n",
    "  \n",
    "    layers.Flatten(),\n",
    "    layers.Dense(128, activation='relu'),\n",
    "    layers.Dropout(0.3),\n",
    "    layers.Dense(64, activation='relu'),\n",
    "    layers.Dense(5, activation='softmax') \n",
    "])\n",
    "\n",
    "model.compile(optimizer='rmsprop', loss='categorical_crossentropy', metrics=['accuracy'])\n",
    "\n",
    "model.summary()\n",
    "\n",
    "batch_size = 64 # Batch size updated\n",
    "\n",
    "# Train the model\n",
    "history = model.fit(\n",
    "    train_generator,\n",
    "    steps_per_epoch=train_generator.samples // batch_size,\n",
    "    epochs=8\n",
    ")\n"
   ]
  },
  {
   "cell_type": "markdown",
   "metadata": {},
   "source": [
    "Visualize the above CNN model"
   ]
  },
  {
   "cell_type": "code",
   "execution_count": null,
   "metadata": {},
   "outputs": [],
   "source": [
    "visualkeras.layered_view(model)"
   ]
  },
  {
   "cell_type": "markdown",
   "metadata": {},
   "source": [
    "Plot the train accuracy over the epochs"
   ]
  },
  {
   "cell_type": "code",
   "execution_count": null,
   "metadata": {},
   "outputs": [],
   "source": [
    "plt.plot(history.history['accuracy'], label='Train Accuracy')\n",
    "plt.title('Model Accuracy Over Epochs')\n",
    "plt.xlabel('Epochs')\n",
    "plt.ylabel('Accuracy')\n",
    "plt.legend()\n",
    "plt.show()"
   ]
  },
  {
   "cell_type": "code",
   "execution_count": null,
   "metadata": {},
   "outputs": [],
   "source": [
    "test_data_dir = '../data/test/'\n",
    "\n",
    "# Image size and batch size\n",
    "img_size = (96, 96)\n",
    "batch_size = 32\n",
    "\n",
    "# Create data generator for test set\n",
    "test_datagen = ImageDataGenerator(rescale=1./255)\n",
    "test_generator = test_datagen.flow_from_directory(\n",
    "    test_data_dir,\n",
    "    target_size=img_size,\n",
    "    batch_size=batch_size,\n",
    "    class_mode='categorical',  # Assuming one-hot encoding for class labels\n",
    "    color_mode='rgb',\n",
    "    shuffle=False  # Keep the order of predictions for evaluation\n",
    ")\n",
    "\n",
    "# Predict on the test set\n",
    "predictions = model.predict(test_generator)\n",
    "\n",
    "# Get predicted classes\n",
    "predicted_classes = tf.argmax(predictions, axis=1)\n",
    "\n",
    "# Get true classes\n",
    "true_classes = test_generator.classes\n",
    "\n",
    "# Calculate accuracy\n",
    "test_accuracy = accuracy_score(true_classes, predicted_classes)\n",
    "print(f'Test Accuracy: {test_accuracy}')\n",
    "\n",
    "# Generate a classification report\n",
    "class_report = classification_report(true_classes, predicted_classes)\n",
    "print('Classification Report:\\n', class_report)"
   ]
  },
  {
   "cell_type": "markdown",
   "metadata": {},
   "source": [
    "Plot the confusion matrices"
   ]
  },
  {
   "cell_type": "code",
   "execution_count": null,
   "metadata": {},
   "outputs": [],
   "source": [
    "# Generate a confusion matrix\n",
    "conf_matrix = confusion_matrix(true_classes, predicted_classes)\n",
    "\n",
    "# Plot the confusion matrix\n",
    "plt.figure(figsize=(8, 6))\n",
    "sns.heatmap(conf_matrix, annot=True, fmt='d', cmap='Blues',\n",
    "            xticklabels=test_generator.class_indices,\n",
    "            yticklabels=test_generator.class_indices)\n",
    "plt.title('Confusion Matrix')\n",
    "plt.xlabel('Predicted')\n",
    "plt.ylabel('True')\n",
    "plt.show()"
   ]
  },
  {
   "cell_type": "markdown",
   "metadata": {},
   "source": [
    "Save the trained model"
   ]
  },
  {
   "cell_type": "code",
   "execution_count": null,
   "metadata": {},
   "outputs": [],
   "source": [
    "# Save the trained model\n",
    "#model.save('./second_cnn_model.h5')"
   ]
  }
 ],
 "metadata": {
  "kernelspec": {
   "display_name": ".venv",
   "language": "python",
   "name": "python3"
  },
  "language_info": {
   "codemirror_mode": {
    "name": "ipython",
    "version": 3
   },
   "file_extension": ".py",
   "mimetype": "text/x-python",
   "name": "python",
   "nbconvert_exporter": "python",
   "pygments_lexer": "ipython3",
   "version": "3.11.4"
  }
 },
 "nbformat": 4,
 "nbformat_minor": 2
}
